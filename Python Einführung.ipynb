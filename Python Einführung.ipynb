{
 "cells": [
  {
   "cell_type": "markdown",
   "id": "562d2b30",
   "metadata": {},
   "source": [
    "# Python Einführung"
   ]
  },
  {
   "cell_type": "code",
   "execution_count": 1,
   "id": "2bcca5b0",
   "metadata": {},
   "outputs": [
    {
     "name": "stdout",
     "output_type": "stream",
     "text": [
      "Hello World!\n"
     ]
    }
   ],
   "source": [
    "print (\"Hello World!\")"
   ]
  },
  {
   "cell_type": "code",
   "execution_count": 2,
   "id": "7a2c987a",
   "metadata": {},
   "outputs": [
    {
     "name": "stdout",
     "output_type": "stream",
     "text": [
      "Irgendwas\n"
     ]
    }
   ],
   "source": [
    "# Dies ist ein Kommentar\n",
    "print (\"Irgendwas\")"
   ]
  },
  {
   "cell_type": "code",
   "execution_count": 3,
   "id": "129041e1",
   "metadata": {},
   "outputs": [],
   "source": [
    "# Variablen und Wertezuweisung\n",
    "# String - Zeichenketten\n",
    "name = \"Lovelace\""
   ]
  },
  {
   "cell_type": "code",
   "execution_count": 4,
   "id": "5735e786",
   "metadata": {},
   "outputs": [
    {
     "name": "stdout",
     "output_type": "stream",
     "text": [
      "Lovelace\n"
     ]
    }
   ],
   "source": [
    "print (name)"
   ]
  },
  {
   "cell_type": "code",
   "execution_count": 5,
   "id": "c0ff11f2",
   "metadata": {},
   "outputs": [
    {
     "name": "stdout",
     "output_type": "stream",
     "text": [
      "73\n"
     ]
    }
   ],
   "source": [
    "# Integer - Ganzzahlen\n",
    "age = 73\n",
    "print (age)"
   ]
  },
  {
   "cell_type": "code",
   "execution_count": 6,
   "id": "c607f198",
   "metadata": {},
   "outputs": [
    {
     "name": "stdout",
     "output_type": "stream",
     "text": [
      "1.83\n"
     ]
    }
   ],
   "source": [
    "# Float - Gleitkommazahlen\n",
    "size = 1.83\n",
    "print (size)"
   ]
  },
  {
   "cell_type": "code",
   "execution_count": 7,
   "id": "3d5f15ba",
   "metadata": {},
   "outputs": [
    {
     "name": "stdout",
     "output_type": "stream",
     "text": [
      "True\n",
      "False\n"
     ]
    }
   ],
   "source": [
    "# Booleans - Boolescher Wert\n",
    "knows_math = True\n",
    "print (knows_math)\n",
    "likes_gardening = False\n",
    "print (likes_gardening)"
   ]
  },
  {
   "cell_type": "code",
   "execution_count": 8,
   "id": "5d5e3e38",
   "metadata": {},
   "outputs": [
    {
     "data": {
      "text/plain": [
       "str"
      ]
     },
     "execution_count": 8,
     "metadata": {},
     "output_type": "execute_result"
    }
   ],
   "source": [
    "type(name)"
   ]
  },
  {
   "cell_type": "markdown",
   "id": "d036598f",
   "metadata": {},
   "source": [
    "# Operatoren"
   ]
  },
  {
   "cell_type": "code",
   "execution_count": 9,
   "id": "b239cf01",
   "metadata": {},
   "outputs": [
    {
     "data": {
      "text/plain": [
       "10"
      ]
     },
     "execution_count": 9,
     "metadata": {},
     "output_type": "execute_result"
    }
   ],
   "source": [
    "# Addition\n",
    "5 + 5"
   ]
  },
  {
   "cell_type": "code",
   "execution_count": 10,
   "id": "ca76631e",
   "metadata": {},
   "outputs": [
    {
     "data": {
      "text/plain": [
       "25"
      ]
     },
     "execution_count": 10,
     "metadata": {},
     "output_type": "execute_result"
    }
   ],
   "source": [
    "# Multiplikation\n",
    "5 * 5"
   ]
  },
  {
   "cell_type": "code",
   "execution_count": 11,
   "id": "a16b46c3",
   "metadata": {},
   "outputs": [
    {
     "data": {
      "text/plain": [
       "'LovelaceLovelace'"
      ]
     },
     "execution_count": 11,
     "metadata": {},
     "output_type": "execute_result"
    }
   ],
   "source": [
    "# Verkettung von Strings\n",
    "name + name"
   ]
  },
  {
   "cell_type": "code",
   "execution_count": 12,
   "id": "d0b18ab8",
   "metadata": {},
   "outputs": [
    {
     "data": {
      "text/plain": [
       "'LovelaceLovelaceLovelaceLovelaceLovelaceLovelaceLovelaceLovelaceLovelaceLovelace'"
      ]
     },
     "execution_count": 12,
     "metadata": {},
     "output_type": "execute_result"
    }
   ],
   "source": [
    "# Strings werden x -mal aneinandergekettet\n",
    "name *10"
   ]
  },
  {
   "cell_type": "code",
   "execution_count": 13,
   "id": "4e740cb5",
   "metadata": {},
   "outputs": [
    {
     "data": {
      "text/plain": [
       "0.025068493150684934"
      ]
     },
     "execution_count": 13,
     "metadata": {},
     "output_type": "execute_result"
    }
   ],
   "source": [
    "# Division\n",
    "size / age"
   ]
  },
  {
   "cell_type": "code",
   "execution_count": 14,
   "id": "6c39028f",
   "metadata": {},
   "outputs": [],
   "source": [
    "number_of_articles = \"50\""
   ]
  },
  {
   "cell_type": "code",
   "execution_count": 15,
   "id": "2a43478e",
   "metadata": {},
   "outputs": [
    {
     "data": {
      "text/plain": [
       "str"
      ]
     },
     "execution_count": 15,
     "metadata": {},
     "output_type": "execute_result"
    }
   ],
   "source": [
    "type(number_of_articles)"
   ]
  },
  {
   "cell_type": "code",
   "execution_count": 16,
   "id": "f3939358",
   "metadata": {},
   "outputs": [
    {
     "data": {
      "text/plain": [
       "5.0"
      ]
     },
     "execution_count": 16,
     "metadata": {},
     "output_type": "execute_result"
    }
   ],
   "source": [
    "int(number_of_articles) / 10"
   ]
  },
  {
   "cell_type": "markdown",
   "id": "28824a83",
   "metadata": {},
   "source": [
    "# Funktionen und Methoden"
   ]
  },
  {
   "cell_type": "code",
   "execution_count": 17,
   "id": "06560705",
   "metadata": {},
   "outputs": [
    {
     "data": {
      "text/plain": [
       "8"
      ]
     },
     "execution_count": 17,
     "metadata": {},
     "output_type": "execute_result"
    }
   ],
   "source": [
    "# Länge des Namens\n",
    "len(name)"
   ]
  },
  {
   "cell_type": "code",
   "execution_count": 18,
   "id": "018c2f33",
   "metadata": {},
   "outputs": [
    {
     "data": {
      "text/plain": [
       "'LOVELACE'"
      ]
     },
     "execution_count": 18,
     "metadata": {},
     "output_type": "execute_result"
    }
   ],
   "source": [
    "# Schreibweise ändern\n",
    "name.upper ()"
   ]
  },
  {
   "cell_type": "code",
   "execution_count": 19,
   "id": "e4a3ef2d",
   "metadata": {},
   "outputs": [
    {
     "data": {
      "text/plain": [
       "2"
      ]
     },
     "execution_count": 19,
     "metadata": {},
     "output_type": "execute_result"
    }
   ],
   "source": [
    "name.count (\"e\")"
   ]
  },
  {
   "cell_type": "code",
   "execution_count": 20,
   "id": "994c088f",
   "metadata": {},
   "outputs": [
    {
     "data": {
      "text/plain": [
       "'Love is everywhere'"
      ]
     },
     "execution_count": 20,
     "metadata": {},
     "output_type": "execute_result"
    }
   ],
   "source": [
    "# Methode mit zwei Argumenten\n",
    "name.replace (\"lace\", \" is everywhere\")"
   ]
  },
  {
   "cell_type": "markdown",
   "id": "b821fa1d",
   "metadata": {},
   "source": [
    "# Listen und Dictionaries"
   ]
  },
  {
   "cell_type": "code",
   "execution_count": 21,
   "id": "532a4e18",
   "metadata": {},
   "outputs": [],
   "source": [
    "# Liste\n",
    "names = [\"Lovelace\", \"Darwin\", \"Curie\", \"Hawking\"]"
   ]
  },
  {
   "cell_type": "code",
   "execution_count": 22,
   "id": "5e5610d2",
   "metadata": {},
   "outputs": [
    {
     "data": {
      "text/plain": [
       "'Lovelace'"
      ]
     },
     "execution_count": 22,
     "metadata": {},
     "output_type": "execute_result"
    }
   ],
   "source": [
    "names [0]"
   ]
  },
  {
   "cell_type": "code",
   "execution_count": 23,
   "id": "7335bbf3",
   "metadata": {},
   "outputs": [
    {
     "data": {
      "text/plain": [
       "'L'"
      ]
     },
     "execution_count": 23,
     "metadata": {},
     "output_type": "execute_result"
    }
   ],
   "source": [
    "name [0]"
   ]
  },
  {
   "cell_type": "code",
   "execution_count": 24,
   "id": "3e6a4572",
   "metadata": {},
   "outputs": [
    {
     "data": {
      "text/plain": [
       "'Darwin'"
      ]
     },
     "execution_count": 24,
     "metadata": {},
     "output_type": "execute_result"
    }
   ],
   "source": [
    "names [1]"
   ]
  },
  {
   "cell_type": "code",
   "execution_count": 25,
   "id": "030ea827",
   "metadata": {},
   "outputs": [
    {
     "data": {
      "text/plain": [
       "'Curie'"
      ]
     },
     "execution_count": 25,
     "metadata": {},
     "output_type": "execute_result"
    }
   ],
   "source": [
    "names [2]"
   ]
  },
  {
   "cell_type": "code",
   "execution_count": 28,
   "id": "236835fd",
   "metadata": {},
   "outputs": [
    {
     "data": {
      "text/plain": [
       "'Hawking'"
      ]
     },
     "execution_count": 28,
     "metadata": {},
     "output_type": "execute_result"
    }
   ],
   "source": [
    "# Aufzählen von hinten\n",
    "names [-1]"
   ]
  },
  {
   "cell_type": "code",
   "execution_count": 29,
   "id": "ac5160a1",
   "metadata": {},
   "outputs": [
    {
     "data": {
      "text/plain": [
       "['Lovelace', 'Darwin']"
      ]
     },
     "execution_count": 29,
     "metadata": {},
     "output_type": "execute_result"
    }
   ],
   "source": [
    "# Slicing - mehrere Elemente aus der Liste ausschneiden\n",
    "names [0:2]"
   ]
  },
  {
   "cell_type": "code",
   "execution_count": 30,
   "id": "5ebb1f48",
   "metadata": {},
   "outputs": [
    {
     "data": {
      "text/plain": [
       "['Curie', 'Hawking']"
      ]
     },
     "execution_count": 30,
     "metadata": {},
     "output_type": "execute_result"
    }
   ],
   "source": [
    "names [2:4]"
   ]
  },
  {
   "cell_type": "code",
   "execution_count": 31,
   "id": "74ce8ee7",
   "metadata": {},
   "outputs": [],
   "source": [
    "# dictionary {\"Schlüssel\": Wert oder [Liste]}\n",
    "authors_and_birth_year = {\"Lovelace\": 1815,\n",
    "                         \"Darwin\": 1809,\n",
    "                         \"Noether\": 1882,\n",
    "                         \"Hawking\": 1942}"
   ]
  },
  {
   "cell_type": "code",
   "execution_count": 32,
   "id": "4eea2db9",
   "metadata": {},
   "outputs": [
    {
     "data": {
      "text/plain": [
       "1809"
      ]
     },
     "execution_count": 32,
     "metadata": {},
     "output_type": "execute_result"
    }
   ],
   "source": [
    "authors_and_birth_year [\"Darwin\"]"
   ]
  },
  {
   "cell_type": "markdown",
   "id": "5fec94be",
   "metadata": {},
   "source": [
    "# for-Schleifen / Loops"
   ]
  },
  {
   "cell_type": "code",
   "execution_count": 33,
   "id": "f281217d",
   "metadata": {},
   "outputs": [
    {
     "name": "stdout",
     "output_type": "stream",
     "text": [
      "Lovelace did awesome stuff.\n",
      "Darwin did awesome stuff.\n",
      "Curie did awesome stuff.\n",
      "Hawking did awesome stuff.\n"
     ]
    }
   ],
   "source": [
    "#Einrückung syntaktisch vorgegeben - zusätzliche Leerzeichen verursachen Fehler!\n",
    "for person in names:\n",
    "    print(person + \" did awesome stuff.\")"
   ]
  },
  {
   "cell_type": "markdown",
   "id": "ec5e50be",
   "metadata": {},
   "source": [
    "# Bedingte Anweisungen (conditionals)"
   ]
  },
  {
   "cell_type": "code",
   "execution_count": 36,
   "id": "b592831e",
   "metadata": {},
   "outputs": [
    {
     "name": "stdout",
     "output_type": "stream",
     "text": [
      "It's warm\n"
     ]
    }
   ],
   "source": [
    "temp = 20\n",
    "if temp > 15:\n",
    "    print(\"It's warm\")"
   ]
  },
  {
   "cell_type": "code",
   "execution_count": 37,
   "id": "94062cd1",
   "metadata": {},
   "outputs": [
    {
     "data": {
      "text/plain": [
       "True"
      ]
     },
     "execution_count": 37,
     "metadata": {},
     "output_type": "execute_result"
    }
   ],
   "source": [
    " 20 > 15"
   ]
  },
  {
   "cell_type": "code",
   "execution_count": 38,
   "id": "072f9d95",
   "metadata": {},
   "outputs": [
    {
     "data": {
      "text/plain": [
       "False"
      ]
     },
     "execution_count": 38,
     "metadata": {},
     "output_type": "execute_result"
    }
   ],
   "source": [
    "20 > 70"
   ]
  },
  {
   "cell_type": "code",
   "execution_count": 43,
   "id": "ac3e5c59",
   "metadata": {},
   "outputs": [
    {
     "name": "stdout",
     "output_type": "stream",
     "text": [
      "It's cold\n"
     ]
    }
   ],
   "source": [
    "temp = 10\n",
    "if temp > 15:\n",
    "    print(\"It's warm\")\n",
    "else:\n",
    "    print(\"It's cold\")"
   ]
  },
  {
   "cell_type": "code",
   "execution_count": 47,
   "id": "5d74ba0a",
   "metadata": {},
   "outputs": [
    {
     "name": "stdout",
     "output_type": "stream",
     "text": [
      "It's warm\n"
     ]
    }
   ],
   "source": [
    "temp = 15\n",
    "if temp >= 25:\n",
    "    print (\"It's hot\")\n",
    "elif temp >= 17:\n",
    "    print(\"It's nicely warm\")\n",
    "elif temp >= 15:\n",
    "    print(\"It's warm\")\n",
    "else:\n",
    "    print(\"It's cold\")"
   ]
  },
  {
   "cell_type": "code",
   "execution_count": 49,
   "id": "025e2221",
   "metadata": {},
   "outputs": [
    {
     "name": "stdout",
     "output_type": "stream",
     "text": [
      "C:\\Users\\J.schenk.W10LT10298\n"
     ]
    }
   ],
   "source": [
    "# show the path (for later use with the git lesson) of folder that contains the current jupyter-notebook\n",
    "import os\n",
    "print(os.path.abspath(os.getcwd()))"
   ]
  },
  {
   "cell_type": "code",
   "execution_count": null,
   "id": "74fa1e4d",
   "metadata": {},
   "outputs": [],
   "source": []
  }
 ],
 "metadata": {
  "kernelspec": {
   "display_name": "Python 3",
   "language": "python",
   "name": "python3"
  },
  "language_info": {
   "codemirror_mode": {
    "name": "ipython",
    "version": 3
   },
   "file_extension": ".py",
   "mimetype": "text/x-python",
   "name": "python",
   "nbconvert_exporter": "python",
   "pygments_lexer": "ipython3",
   "version": "3.8.8"
  }
 },
 "nbformat": 4,
 "nbformat_minor": 5
}
